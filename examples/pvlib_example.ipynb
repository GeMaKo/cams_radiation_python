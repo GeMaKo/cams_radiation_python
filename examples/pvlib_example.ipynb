{
 "cells": [
  {
   "cell_type": "markdown",
   "metadata": {},
   "source": [
    "# Pvlib example\n",
    "\n",
    "Example of how to derive PV power production from CAMS radiation data through [pvlib](http://pvlib-python.readthedocs.io/en/latest)"
   ]
  },
  {
   "cell_type": "code",
   "execution_count": 1,
   "metadata": {},
   "outputs": [],
   "source": [
    "import sys\n",
    "CAMS_path = '..'\n",
    "\n",
    "if CAMS_path not in sys.path:\n",
    "    sys.path.append(CAMS_path)\n",
    "\n",
    "from CAMS_radiation_client import client as CAMS\n",
    "import pvlib\n",
    "\n",
    "import pandas as pd"
   ]
  },
  {
   "cell_type": "code",
   "execution_count": null,
   "metadata": {},
   "outputs": [],
   "source": [
    "email = input('Enter your email here >> ')"
   ]
  },
  {
   "cell_type": "code",
   "execution_count": 3,
   "metadata": {},
   "outputs": [],
   "source": [
    "start    = pd.datetime(2017,1,1) # included\n",
    "end      = pd.datetime(2018,1,1) # excluded\n",
    "timestep = 1 # minutes\n",
    "\n",
    "latitude  = 39.867588\n",
    "longitude = 4.275055\n",
    "altitude  = 0"
   ]
  },
  {
   "cell_type": "code",
   "execution_count": 4,
   "metadata": {},
   "outputs": [],
   "source": [
    "client = CAMS.CAMS_Client(email)\n",
    "\n",
    "cams_df = client.query_radiation_service(start, end, timestep, latitude, longitude)"
   ]
  },
  {
   "cell_type": "code",
   "execution_count": 6,
   "metadata": {},
   "outputs": [
    {
     "data": {
      "text/html": [
       "<div>\n",
       "<style scoped>\n",
       "    .dataframe tbody tr th:only-of-type {\n",
       "        vertical-align: middle;\n",
       "    }\n",
       "\n",
       "    .dataframe tbody tr th {\n",
       "        vertical-align: top;\n",
       "    }\n",
       "\n",
       "    .dataframe thead th {\n",
       "        text-align: right;\n",
       "    }\n",
       "</style>\n",
       "<table border=\"1\" class=\"dataframe\">\n",
       "  <thead>\n",
       "    <tr style=\"text-align: right;\">\n",
       "      <th></th>\n",
       "      <th>TOA</th>\n",
       "      <th>Clear_sky_GHI</th>\n",
       "      <th>Clear_sky_BHI</th>\n",
       "      <th>Clear_sky_DHI</th>\n",
       "      <th>Clear_sky_BNI</th>\n",
       "      <th>GHI</th>\n",
       "      <th>BHI</th>\n",
       "      <th>DHI</th>\n",
       "      <th>BNI</th>\n",
       "      <th>Reliability</th>\n",
       "    </tr>\n",
       "  </thead>\n",
       "  <tbody>\n",
       "    <tr>\n",
       "      <th>2017-01-01 00:00:00</th>\n",
       "      <td>0.0</td>\n",
       "      <td>0.0</td>\n",
       "      <td>0.0</td>\n",
       "      <td>0.0</td>\n",
       "      <td>0.0</td>\n",
       "      <td>0.0</td>\n",
       "      <td>0.0</td>\n",
       "      <td>0.0</td>\n",
       "      <td>0.0</td>\n",
       "      <td>1.0</td>\n",
       "    </tr>\n",
       "    <tr>\n",
       "      <th>2017-01-01 00:01:00</th>\n",
       "      <td>0.0</td>\n",
       "      <td>0.0</td>\n",
       "      <td>0.0</td>\n",
       "      <td>0.0</td>\n",
       "      <td>0.0</td>\n",
       "      <td>0.0</td>\n",
       "      <td>0.0</td>\n",
       "      <td>0.0</td>\n",
       "      <td>0.0</td>\n",
       "      <td>1.0</td>\n",
       "    </tr>\n",
       "    <tr>\n",
       "      <th>2017-01-01 00:02:00</th>\n",
       "      <td>0.0</td>\n",
       "      <td>0.0</td>\n",
       "      <td>0.0</td>\n",
       "      <td>0.0</td>\n",
       "      <td>0.0</td>\n",
       "      <td>0.0</td>\n",
       "      <td>0.0</td>\n",
       "      <td>0.0</td>\n",
       "      <td>0.0</td>\n",
       "      <td>1.0</td>\n",
       "    </tr>\n",
       "    <tr>\n",
       "      <th>2017-01-01 00:03:00</th>\n",
       "      <td>0.0</td>\n",
       "      <td>0.0</td>\n",
       "      <td>0.0</td>\n",
       "      <td>0.0</td>\n",
       "      <td>0.0</td>\n",
       "      <td>0.0</td>\n",
       "      <td>0.0</td>\n",
       "      <td>0.0</td>\n",
       "      <td>0.0</td>\n",
       "      <td>1.0</td>\n",
       "    </tr>\n",
       "    <tr>\n",
       "      <th>2017-01-01 00:04:00</th>\n",
       "      <td>0.0</td>\n",
       "      <td>0.0</td>\n",
       "      <td>0.0</td>\n",
       "      <td>0.0</td>\n",
       "      <td>0.0</td>\n",
       "      <td>0.0</td>\n",
       "      <td>0.0</td>\n",
       "      <td>0.0</td>\n",
       "      <td>0.0</td>\n",
       "      <td>1.0</td>\n",
       "    </tr>\n",
       "  </tbody>\n",
       "</table>\n",
       "</div>"
      ],
      "text/plain": [
       "                     TOA  Clear_sky_GHI  Clear_sky_BHI  Clear_sky_DHI  \\\n",
       "2017-01-01 00:00:00  0.0            0.0            0.0            0.0   \n",
       "2017-01-01 00:01:00  0.0            0.0            0.0            0.0   \n",
       "2017-01-01 00:02:00  0.0            0.0            0.0            0.0   \n",
       "2017-01-01 00:03:00  0.0            0.0            0.0            0.0   \n",
       "2017-01-01 00:04:00  0.0            0.0            0.0            0.0   \n",
       "\n",
       "                     Clear_sky_BNI  GHI  BHI  DHI  BNI  Reliability  \n",
       "2017-01-01 00:00:00            0.0  0.0  0.0  0.0  0.0          1.0  \n",
       "2017-01-01 00:01:00            0.0  0.0  0.0  0.0  0.0          1.0  \n",
       "2017-01-01 00:02:00            0.0  0.0  0.0  0.0  0.0          1.0  \n",
       "2017-01-01 00:03:00            0.0  0.0  0.0  0.0  0.0          1.0  \n",
       "2017-01-01 00:04:00            0.0  0.0  0.0  0.0  0.0          1.0  "
      ]
     },
     "execution_count": 6,
     "metadata": {},
     "output_type": "execute_result"
    }
   ],
   "source": [
    "cams_df.head()"
   ]
  },
  {
   "cell_type": "markdown",
   "metadata": {},
   "source": [
    "### PV system specs"
   ]
  },
  {
   "cell_type": "code",
   "execution_count": 7,
   "metadata": {},
   "outputs": [],
   "source": [
    "pv_module_name = 'SolarWorld_Sunmodule_250_Poly__2013_'\n",
    "inverter_name  = 'ABB__MICRO_0_25_I_OUTD_US_208_208V__CEC_2014_'"
   ]
  },
  {
   "cell_type": "code",
   "execution_count": 8,
   "metadata": {},
   "outputs": [],
   "source": [
    "# load some module and inverter specifications\n",
    "sandia_module = pvlib.pvsystem.retrieve_sam('SandiaMod')[pv_module_name]\n",
    "cec_inverter = pvlib.pvsystem.retrieve_sam('cecinverter')[inverter_name]\n",
    "\n",
    "# initialize location object\n",
    "location = pvlib.location.Location(latitude=latitude, longitude=longitude)\n",
    "\n",
    "# initialize pv system\n",
    "system = pvlib.pvsystem.PVSystem(surface_tilt=35, surface_azimuth=180,\n",
    "                                 module_parameters=sandia_module,\n",
    "                                 inverter_parameters=cec_inverter)\n",
    "\n",
    "# initialize model chain\n",
    "mc = pvlib.modelchain.ModelChain(system, location)"
   ]
  },
  {
   "cell_type": "markdown",
   "metadata": {},
   "source": [
    "### run model "
   ]
  },
  {
   "cell_type": "code",
   "execution_count": 9,
   "metadata": {},
   "outputs": [
    {
     "name": "stderr",
     "output_type": "stream",
     "text": [
      "C:\\Users\\gbalestrieri\\AppData\\Local\\Continuum\\Anaconda3\\lib\\site-packages\\pvlib\\pvsystem.py:1463: RuntimeWarning: invalid value encountered in maximum\n",
      "  spectral_loss = np.maximum(0, np.polyval(am_coeff, airmass_absolute))\n",
      "C:\\Users\\gbalestrieri\\AppData\\Local\\Continuum\\Anaconda3\\lib\\site-packages\\pvlib\\pvsystem.py:1317: RuntimeWarning: divide by zero encountered in log\n",
      "  module['Voco'] + module['Cells_in_Series']*delta*np.log(Ee) +\n",
      "C:\\Users\\gbalestrieri\\AppData\\Local\\Continuum\\Anaconda3\\lib\\site-packages\\pvlib\\pvsystem.py:1323: RuntimeWarning: divide by zero encountered in log\n",
      "  module['C3']*module['Cells_in_Series']*((delta*np.log(Ee)) ** 2) +\n",
      "C:\\Users\\gbalestrieri\\AppData\\Local\\Continuum\\Anaconda3\\lib\\site-packages\\pvlib\\pvsystem.py:1324: RuntimeWarning: invalid value encountered in maximum\n",
      "  Bvmpo*(temp_cell - T0)))\n",
      "C:\\Users\\gbalestrieri\\AppData\\Local\\Continuum\\Anaconda3\\lib\\site-packages\\pvlib\\pvsystem.py:2179: RuntimeWarning: invalid value encountered in minimum\n",
      "  ac_power = np.minimum(Paco, ac_power)\n"
     ]
    },
    {
     "data": {
      "text/plain": [
       "ModelChain: \n",
       "  name: None\n",
       "  orientation_strategy: None\n",
       "  clearsky_model: ineichen\n",
       "  transposition_model: haydavies\n",
       "  solar_position_method: nrel_numpy\n",
       "  airmass_model: kastenyoung1989\n",
       "  dc_model: sapm\n",
       "  ac_model: snlinverter\n",
       "  aoi_model: sapm_aoi_loss\n",
       "  spectral_model: sapm_spectral_loss\n",
       "  temp_model: sapm_temp\n",
       "  losses_model: no_extra_losses"
      ]
     },
     "execution_count": 9,
     "metadata": {},
     "output_type": "execute_result"
    }
   ],
   "source": [
    "# cams outputs are in wh, therefore they need to be scaled based on the timestep\n",
    "weather_df = cams_df[['GHI', 'DHI', 'BNI']].mul(60/timestep).rename(columns={'GHI':'ghi', 'DHI':'dhi', 'BNI':'dni'})\n",
    "\n",
    "mc.run_model(times=weather_df.index, weather=weather_df)"
   ]
  },
  {
   "cell_type": "code",
   "execution_count": 10,
   "metadata": {},
   "outputs": [],
   "source": [
    "ac_power = mc.ac.fillna(0)"
   ]
  },
  {
   "cell_type": "code",
   "execution_count": 11,
   "metadata": {},
   "outputs": [
    {
     "data": {
      "text/plain": [
       "0.19283879600054643"
      ]
     },
     "execution_count": 11,
     "metadata": {},
     "output_type": "execute_result"
    }
   ],
   "source": [
    "# capacity factor (relative to cell DC rated power)\n",
    "ac_power.mean()/sandia_module[['Vmpo','Impo']].prod()"
   ]
  },
  {
   "cell_type": "markdown",
   "metadata": {},
   "source": [
    "### Plot"
   ]
  },
  {
   "cell_type": "code",
   "execution_count": 12,
   "metadata": {},
   "outputs": [],
   "source": [
    "from matplotlib import pyplot as plt\n",
    "plt.style.use('seaborn')\n",
    "%matplotlib inline"
   ]
  },
  {
   "cell_type": "code",
   "execution_count": 13,
   "metadata": {},
   "outputs": [
    {
     "data": {
      "image/png": "[encoded data removed]",
      "text/plain": [
       "<Figure size 864x288 with 1 Axes>"
      ]
     },
     "metadata": {},
     "output_type": "display_data"
    }
   ],
   "source": [
    "plot_start = pd.datetime(2017,4,1)\n",
    "plot_end   = pd.datetime(2017,4,3)\n",
    "\n",
    "ac_power[plot_start:plot_end].plot(figsize=(12,4));"
   ]
  }
 ],
 "metadata": {
  "kernelspec": {
   "display_name": "Python 3",
   "language": "python",
   "name": "python3"
  },
  "language_info": {
   "codemirror_mode": {
    "name": "ipython",
    "version": 3
   },
   "file_extension": ".py",
   "mimetype": "text/x-python",
   "name": "python",
   "nbconvert_exporter": "python",
   "pygments_lexer": "ipython3",
   "version": "3.6.5"
  }
 },
 "nbformat": 4,
 "nbformat_minor": 2
}
