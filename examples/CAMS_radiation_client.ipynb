{
 "cells": [
  {
   "cell_type": "markdown",
   "metadata": {},
   "source": [
    "# CAMS Radiation service client\n",
    "\n",
    "__!!__ register on the website and enter your email below\n",
    "* documentation available [here](http://www.soda-pro.com/help/cams-services/cams-radiation-service/automatic-access#wget)\n",
    "* examples available [here](http://www.soda-pro.com/help/automatic-access/examples-of-scripts)"
   ]
  },
  {
   "cell_type": "code",
   "execution_count": 1,
   "metadata": {},
   "outputs": [],
   "source": [
    "import sys\n",
    "CAMS_path = '..'\n",
    "\n",
    "if CAMS_path not in sys.path:\n",
    "    sys.path.append(CAMS_path)\n",
    "\n",
    "from CAMS_radiation_client import client as CAMS\n",
    "\n",
    "import pandas as pd"
   ]
  },
  {
   "cell_type": "code",
   "execution_count": null,
   "metadata": {},
   "outputs": [],
   "source": [
    "email = input('Enter your email here >> ')"
   ]
  },
  {
   "cell_type": "code",
   "execution_count": 5,
   "metadata": {},
   "outputs": [],
   "source": [
    "start    = pd.datetime(2017,1,1) # included\n",
    "end      = pd.datetime(2017,1,3) # excluded\n",
    "timestep = 15 # minutes\n",
    "\n",
    "latitude  = 39.867588\n",
    "longitude = 4.275055"
   ]
  },
  {
   "cell_type": "code",
   "execution_count": 6,
   "metadata": {},
   "outputs": [],
   "source": [
    "client = CAMS.CAMS_Client(email)\n",
    "\n",
    "df = client.query_radiation_service(start, end, timestep, latitude, longitude)"
   ]
  },
  {
   "cell_type": "code",
   "execution_count": 8,
   "metadata": {},
   "outputs": [
    {
     "data": {
      "text/html": [
       "<div>\n",
       "<style scoped>\n",
       "    .dataframe tbody tr th:only-of-type {\n",
       "        vertical-align: middle;\n",
       "    }\n",
       "\n",
       "    .dataframe tbody tr th {\n",
       "        vertical-align: top;\n",
       "    }\n",
       "\n",
       "    .dataframe thead th {\n",
       "        text-align: right;\n",
       "    }\n",
       "</style>\n",
       "<table border=\"1\" class=\"dataframe\">\n",
       "  <thead>\n",
       "    <tr style=\"text-align: right;\">\n",
       "      <th></th>\n",
       "      <th>TOA</th>\n",
       "      <th>Clear_sky_GHI</th>\n",
       "      <th>Clear_sky_BHI</th>\n",
       "      <th>Clear_sky_DHI</th>\n",
       "      <th>Clear_sky_BNI</th>\n",
       "      <th>GHI</th>\n",
       "      <th>BHI</th>\n",
       "      <th>DHI</th>\n",
       "      <th>BNI</th>\n",
       "      <th>Reliability</th>\n",
       "    </tr>\n",
       "  </thead>\n",
       "  <tbody>\n",
       "    <tr>\n",
       "      <th>2017-01-01 00:00:00</th>\n",
       "      <td>0.0</td>\n",
       "      <td>0.0</td>\n",
       "      <td>0.0</td>\n",
       "      <td>0.0</td>\n",
       "      <td>0.0</td>\n",
       "      <td>0.0</td>\n",
       "      <td>0.0</td>\n",
       "      <td>0.0</td>\n",
       "      <td>0.0</td>\n",
       "      <td>1.0</td>\n",
       "    </tr>\n",
       "    <tr>\n",
       "      <th>2017-01-01 00:15:00</th>\n",
       "      <td>0.0</td>\n",
       "      <td>0.0</td>\n",
       "      <td>0.0</td>\n",
       "      <td>0.0</td>\n",
       "      <td>0.0</td>\n",
       "      <td>0.0</td>\n",
       "      <td>0.0</td>\n",
       "      <td>0.0</td>\n",
       "      <td>0.0</td>\n",
       "      <td>1.0</td>\n",
       "    </tr>\n",
       "    <tr>\n",
       "      <th>2017-01-01 00:30:00</th>\n",
       "      <td>0.0</td>\n",
       "      <td>0.0</td>\n",
       "      <td>0.0</td>\n",
       "      <td>0.0</td>\n",
       "      <td>0.0</td>\n",
       "      <td>0.0</td>\n",
       "      <td>0.0</td>\n",
       "      <td>0.0</td>\n",
       "      <td>0.0</td>\n",
       "      <td>1.0</td>\n",
       "    </tr>\n",
       "    <tr>\n",
       "      <th>2017-01-01 00:45:00</th>\n",
       "      <td>0.0</td>\n",
       "      <td>0.0</td>\n",
       "      <td>0.0</td>\n",
       "      <td>0.0</td>\n",
       "      <td>0.0</td>\n",
       "      <td>0.0</td>\n",
       "      <td>0.0</td>\n",
       "      <td>0.0</td>\n",
       "      <td>0.0</td>\n",
       "      <td>1.0</td>\n",
       "    </tr>\n",
       "    <tr>\n",
       "      <th>2017-01-01 01:00:00</th>\n",
       "      <td>0.0</td>\n",
       "      <td>0.0</td>\n",
       "      <td>0.0</td>\n",
       "      <td>0.0</td>\n",
       "      <td>0.0</td>\n",
       "      <td>0.0</td>\n",
       "      <td>0.0</td>\n",
       "      <td>0.0</td>\n",
       "      <td>0.0</td>\n",
       "      <td>1.0</td>\n",
       "    </tr>\n",
       "  </tbody>\n",
       "</table>\n",
       "</div>"
      ],
      "text/plain": [
       "                     TOA  Clear_sky_GHI  Clear_sky_BHI  Clear_sky_DHI  \\\n",
       "2017-01-01 00:00:00  0.0            0.0            0.0            0.0   \n",
       "2017-01-01 00:15:00  0.0            0.0            0.0            0.0   \n",
       "2017-01-01 00:30:00  0.0            0.0            0.0            0.0   \n",
       "2017-01-01 00:45:00  0.0            0.0            0.0            0.0   \n",
       "2017-01-01 01:00:00  0.0            0.0            0.0            0.0   \n",
       "\n",
       "                     Clear_sky_BNI  GHI  BHI  DHI  BNI  Reliability  \n",
       "2017-01-01 00:00:00            0.0  0.0  0.0  0.0  0.0          1.0  \n",
       "2017-01-01 00:15:00            0.0  0.0  0.0  0.0  0.0          1.0  \n",
       "2017-01-01 00:30:00            0.0  0.0  0.0  0.0  0.0          1.0  \n",
       "2017-01-01 00:45:00            0.0  0.0  0.0  0.0  0.0          1.0  \n",
       "2017-01-01 01:00:00            0.0  0.0  0.0  0.0  0.0          1.0  "
      ]
     },
     "execution_count": 8,
     "metadata": {},
     "output_type": "execute_result"
    }
   ],
   "source": [
    "df.head()"
   ]
  }
 ],
 "metadata": {
  "kernelspec": {
   "display_name": "Python 3",
   "language": "python",
   "name": "python3"
  },
  "language_info": {
   "codemirror_mode": {
    "name": "ipython",
    "version": 3
   },
   "file_extension": ".py",
   "mimetype": "text/x-python",
   "name": "python",
   "nbconvert_exporter": "python",
   "pygments_lexer": "ipython3",
   "version": "3.6.5"
  }
 },
 "nbformat": 4,
 "nbformat_minor": 2
}
