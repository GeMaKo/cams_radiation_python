{
 "cells": [
  {
   "cell_type": "markdown",
   "metadata": {},
   "source": [
    "# CAMS Radiation service client\n",
    "\n",
    "__!!__ register on the website and replace your email below\n",
    "* documentation available [here](http://www.soda-pro.com/help/cams-services/cams-radiation-service/automatic-access#wget)\n",
    "* examples available [here](http://www.soda-pro.com/help/automatic-access/examples-of-scripts)"
   ]
  },
  {
   "cell_type": "code",
   "execution_count": 1,
   "metadata": {},
   "outputs": [],
   "source": [
    "import pandas as pd\n",
    "import CAMS_radiation_client as cams_client"
   ]
  },
  {
   "cell_type": "code",
   "execution_count": 2,
   "metadata": {},
   "outputs": [],
   "source": [
    "email = 'your.email@here'\n",
    "\n",
    "start    = pd.datetime(2017,1,1) # included\n",
    "end      = pd.datetime(2017,1,3) # excluded\n",
    "timestep = 15 # minutes\n",
    "\n",
    "latitude  = 39.867588\n",
    "longitude = 4.275055\n",
    "altitude  = 0"
   ]
  },
  {
   "cell_type": "code",
   "execution_count": 3,
   "metadata": {},
   "outputs": [],
   "source": [
    "client = cams_client.CAMS_Client(email)"
   ]
  },
  {
   "cell_type": "code",
   "execution_count": 4,
   "metadata": {},
   "outputs": [],
   "source": [
    "df = client.query_radiation_service(start, end, timestep, latitude, longitude)"
   ]
  },
  {
   "cell_type": "code",
   "execution_count": 5,
   "metadata": {},
   "outputs": [
    {
     "data": {
      "text/html": [
       "<div>\n",
       "<style scoped>\n",
       "    .dataframe tbody tr th:only-of-type {\n",
       "        vertical-align: middle;\n",
       "    }\n",
       "\n",
       "    .dataframe tbody tr th {\n",
       "        vertical-align: top;\n",
       "    }\n",
       "\n",
       "    .dataframe thead th {\n",
       "        text-align: right;\n",
       "    }\n",
       "</style>\n",
       "<table border=\"1\" class=\"dataframe\">\n",
       "  <thead>\n",
       "    <tr style=\"text-align: right;\">\n",
       "      <th></th>\n",
       "      <th>TOA</th>\n",
       "      <th>Clear_sky_GHI</th>\n",
       "      <th>Clear_sky_BHI</th>\n",
       "      <th>Clear_sky_DHI</th>\n",
       "      <th>Clear_sky_BNI</th>\n",
       "      <th>GHI</th>\n",
       "      <th>BHI</th>\n",
       "      <th>DHI</th>\n",
       "      <th>BNI</th>\n",
       "      <th>Reliability</th>\n",
       "    </tr>\n",
       "  </thead>\n",
       "  <tbody>\n",
       "    <tr>\n",
       "      <th>2017-01-01 00:00:00</th>\n",
       "      <td>0.0</td>\n",
       "      <td>0.0</td>\n",
       "      <td>0.0</td>\n",
       "      <td>0.0</td>\n",
       "      <td>0.0</td>\n",
       "      <td>0.0</td>\n",
       "      <td>0.0</td>\n",
       "      <td>0.0</td>\n",
       "      <td>0.0</td>\n",
       "      <td>1.0</td>\n",
       "    </tr>\n",
       "    <tr>\n",
       "      <th>2017-01-01 00:15:00</th>\n",
       "      <td>0.0</td>\n",
       "      <td>0.0</td>\n",
       "      <td>0.0</td>\n",
       "      <td>0.0</td>\n",
       "      <td>0.0</td>\n",
       "      <td>0.0</td>\n",
       "      <td>0.0</td>\n",
       "      <td>0.0</td>\n",
       "      <td>0.0</td>\n",
       "      <td>1.0</td>\n",
       "    </tr>\n",
       "    <tr>\n",
       "      <th>2017-01-01 00:30:00</th>\n",
       "      <td>0.0</td>\n",
       "      <td>0.0</td>\n",
       "      <td>0.0</td>\n",
       "      <td>0.0</td>\n",
       "      <td>0.0</td>\n",
       "      <td>0.0</td>\n",
       "      <td>0.0</td>\n",
       "      <td>0.0</td>\n",
       "      <td>0.0</td>\n",
       "      <td>1.0</td>\n",
       "    </tr>\n",
       "    <tr>\n",
       "      <th>2017-01-01 00:45:00</th>\n",
       "      <td>0.0</td>\n",
       "      <td>0.0</td>\n",
       "      <td>0.0</td>\n",
       "      <td>0.0</td>\n",
       "      <td>0.0</td>\n",
       "      <td>0.0</td>\n",
       "      <td>0.0</td>\n",
       "      <td>0.0</td>\n",
       "      <td>0.0</td>\n",
       "      <td>1.0</td>\n",
       "    </tr>\n",
       "    <tr>\n",
       "      <th>2017-01-01 01:00:00</th>\n",
       "      <td>0.0</td>\n",
       "      <td>0.0</td>\n",
       "      <td>0.0</td>\n",
       "      <td>0.0</td>\n",
       "      <td>0.0</td>\n",
       "      <td>0.0</td>\n",
       "      <td>0.0</td>\n",
       "      <td>0.0</td>\n",
       "      <td>0.0</td>\n",
       "      <td>1.0</td>\n",
       "    </tr>\n",
       "  </tbody>\n",
       "</table>\n",
       "</div>"
      ],
      "text/plain": [
       "                     TOA  Clear_sky_GHI  Clear_sky_BHI  Clear_sky_DHI  \\\n",
       "2017-01-01 00:00:00  0.0            0.0            0.0            0.0   \n",
       "2017-01-01 00:15:00  0.0            0.0            0.0            0.0   \n",
       "2017-01-01 00:30:00  0.0            0.0            0.0            0.0   \n",
       "2017-01-01 00:45:00  0.0            0.0            0.0            0.0   \n",
       "2017-01-01 01:00:00  0.0            0.0            0.0            0.0   \n",
       "\n",
       "                     Clear_sky_BNI  GHI  BHI  DHI  BNI  Reliability  \n",
       "2017-01-01 00:00:00            0.0  0.0  0.0  0.0  0.0          1.0  \n",
       "2017-01-01 00:15:00            0.0  0.0  0.0  0.0  0.0          1.0  \n",
       "2017-01-01 00:30:00            0.0  0.0  0.0  0.0  0.0          1.0  \n",
       "2017-01-01 00:45:00            0.0  0.0  0.0  0.0  0.0          1.0  \n",
       "2017-01-01 01:00:00            0.0  0.0  0.0  0.0  0.0          1.0  "
      ]
     },
     "execution_count": 5,
     "metadata": {},
     "output_type": "execute_result"
    }
   ],
   "source": [
    "df.head()"
   ]
  },
  {
   "cell_type": "code",
   "execution_count": 6,
   "metadata": {},
   "outputs": [],
   "source": [
    "filename = 'CAMS_rad_{}min_lat_{:.3f}_lon_{:.3f}_{}_{}.csv'.format(\n",
    "    timestep, latitude, longitude, start.strftime('%Y%m%d'), end.strftime('%Y%m%d'))\n",
    "\n",
    "# df.to_csv(filename, float_format='%.3f')"
   ]
  }
 ],
 "metadata": {
  "kernelspec": {
   "display_name": "Python 3",
   "language": "python",
   "name": "python3"
  },
  "language_info": {
   "codemirror_mode": {
    "name": "ipython",
    "version": 3
   },
   "file_extension": ".py",
   "mimetype": "text/x-python",
   "name": "python",
   "nbconvert_exporter": "python",
   "pygments_lexer": "ipython3",
   "version": "3.6.4"
  }
 },
 "nbformat": 4,
 "nbformat_minor": 2
}
